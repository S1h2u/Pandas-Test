{
  "nbformat": 4,
  "nbformat_minor": 0,
  "metadata": {
    "colab": {
      "provenance": []
    },
    "kernelspec": {
      "name": "python3",
      "display_name": "Python 3"
    },
    "language_info": {
      "name": "python"
    }
  },
  "cells": [
    {
      "cell_type": "code",
      "execution_count": 3,
      "metadata": {
        "colab": {
          "base_uri": "https://localhost:8080/"
        },
        "id": "jxEUtDEUQxyS",
        "outputId": "8e887f55-2a79-4991-e93a-7703b73eb1ac"
      },
      "outputs": [
        {
          "output_type": "stream",
          "name": "stdout",
          "text": [
            "[0, 1, 1, 2, 3, 5, 8, 13, 21, 34]\n"
          ]
        }
      ],
      "source": [
        "#Task1\n",
        "def fibonacci(n):\n",
        "    \"\"\"Generate the first n Fibonacci numbers and return them as a list.\"\"\"\n",
        "    if n <= 0:\n",
        "        return []\n",
        "    elif n == 1:\n",
        "        return [0]\n",
        "    elif n == 2:\n",
        "        return [0, 1]\n",
        "\n",
        "    fib_sequence = [0, 1]\n",
        "    for i in range(2, n):\n",
        "        next_number = fib_sequence[-1] + fib_sequence[-2]\n",
        "        fib_sequence.append(next_number)\n",
        "\n",
        "    return fib_sequence\n",
        "\n",
        "print(fibonacci(10))\n",
        "\n"
      ]
    },
    {
      "cell_type": "code",
      "source": [
        "#Task2\n",
        "def is_prime(num):\n",
        "   \"\"\"Check if a given number is a prime number.\"\"\"\n",
        "   if num<=1:\n",
        "    return False\n",
        "   for i in range(2,int(num**0.5)+1):\n",
        "    if num%i==0:\n",
        "      return False\n",
        "   return True"
      ],
      "metadata": {
        "id": "uQCkPw9SU3bQ"
      },
      "execution_count": 4,
      "outputs": []
    },
    {
      "cell_type": "code",
      "source": [
        "print(is_prime(11))"
      ],
      "metadata": {
        "colab": {
          "base_uri": "https://localhost:8080/"
        },
        "id": "Om55zYRrWbZC",
        "outputId": "28369b19-aeb5-4609-a1ed-d0953cb0fa5c"
      },
      "execution_count": 5,
      "outputs": [
        {
          "output_type": "stream",
          "name": "stdout",
          "text": [
            "True\n"
          ]
        }
      ]
    },
    {
      "cell_type": "code",
      "source": [
        "print(is_prime(14))"
      ],
      "metadata": {
        "colab": {
          "base_uri": "https://localhost:8080/"
        },
        "id": "5atCmWjKWgV5",
        "outputId": "ec3054ac-2494-4543-c3cc-7d57eb9c6a8e"
      },
      "execution_count": 6,
      "outputs": [
        {
          "output_type": "stream",
          "name": "stdout",
          "text": [
            "False\n"
          ]
        }
      ]
    },
    {
      "cell_type": "code",
      "source": [
        "#Task3\n",
        "import pandas as pd\n",
        "data = {\n",
        "    'Date': ['2024-01-01', '2024-01-02', '2024-01-03', '2024-01-04', '2024-01-05'],\n",
        "    'Sales': [200, 220, 210, 215, 225],\n",
        "    'Region': ['North', 'South', 'East', 'West', 'North'],\n",
        "    'Manager': ['John', 'Jane', 'Joe', 'Jake', 'John']\n",
        "}\n",
        "\n",
        "df = pd.DataFrame(data)"
      ],
      "metadata": {
        "id": "1_p9GuuSWjHV"
      },
      "execution_count": 7,
      "outputs": []
    },
    {
      "cell_type": "code",
      "source": [
        "# 1First 5 rows\n",
        "print(\"First 5 rows of the DataFrame:\")\n",
        "print(df.head())"
      ],
      "metadata": {
        "colab": {
          "base_uri": "https://localhost:8080/"
        },
        "id": "RHv-n-RvXvCo",
        "outputId": "925425c8-b971-4915-c903-054b7a20cb57"
      },
      "execution_count": 8,
      "outputs": [
        {
          "output_type": "stream",
          "name": "stdout",
          "text": [
            "First 5 rows of the DataFrame:\n",
            "         Date  Sales Region Manager\n",
            "0  2024-01-01    200  North    John\n",
            "1  2024-01-02    220  South    Jane\n",
            "2  2024-01-03    210   East     Joe\n",
            "3  2024-01-04    215   West    Jake\n",
            "4  2024-01-05    225  North    John\n"
          ]
        }
      ]
    },
    {
      "cell_type": "code",
      "source": [
        "#2\n",
        "df['Profit'] = df['Sales']*0.1\n",
        "print(\"DataFrame with Profit column:\")\n",
        "print(df)"
      ],
      "metadata": {
        "colab": {
          "base_uri": "https://localhost:8080/"
        },
        "id": "BehG9hZIX4m4",
        "outputId": "2a1d9eb7-271a-4e2c-fd57-877e52e71334"
      },
      "execution_count": 9,
      "outputs": [
        {
          "output_type": "stream",
          "name": "stdout",
          "text": [
            "DataFrame with Profit column:\n",
            "         Date  Sales Region Manager  Profit\n",
            "0  2024-01-01    200  North    John    20.0\n",
            "1  2024-01-02    220  South    Jane    22.0\n",
            "2  2024-01-03    210   East     Joe    21.0\n",
            "3  2024-01-04    215   West    Jake    21.5\n",
            "4  2024-01-05    225  North    John    22.5\n"
          ]
        }
      ]
    },
    {
      "cell_type": "code",
      "source": [
        "#3\n",
        "total_sales_by_region = df.groupby('Region')['Sales'].sum()\n",
        "print(\"\\nTotal sales by region:\")\n",
        "print(total_sales_by_region)"
      ],
      "metadata": {
        "colab": {
          "base_uri": "https://localhost:8080/"
        },
        "id": "lbpa94x3YJTt",
        "outputId": "f7cc1c6d-3fbf-42f0-d83f-87e0b9831248"
      },
      "execution_count": 10,
      "outputs": [
        {
          "output_type": "stream",
          "name": "stdout",
          "text": [
            "\n",
            "Total sales by region:\n",
            "Region\n",
            "East     210\n",
            "North    425\n",
            "South    220\n",
            "West     215\n",
            "Name: Sales, dtype: int64\n"
          ]
        }
      ]
    },
    {
      "cell_type": "code",
      "source": [
        "#4\n",
        "average_sales_by_region = df.groupby('Region')['Sales'].mean()\n",
        "region_with_highest_avg_sales = average_sales_by_region.idxmax()\n",
        "print(\"\\nRegion with the highest average sales:\")\n",
        "print(region_with_highest_avg_sales)"
      ],
      "metadata": {
        "colab": {
          "base_uri": "https://localhost:8080/"
        },
        "id": "tcv2U5ecZR_M",
        "outputId": "7a5ad80e-dd9b-4ba1-f1a9-c1cf05ff1b68"
      },
      "execution_count": 11,
      "outputs": [
        {
          "output_type": "stream",
          "name": "stdout",
          "text": [
            "\n",
            "Region with the highest average sales:\n",
            "South\n"
          ]
        }
      ]
    },
    {
      "cell_type": "code",
      "source": [
        "#Task4\n",
        "url = \"https://raw.githubusercontent.com/datasciencedojo/datasets/master/titanic.csv\"\n",
        "titanic_df = pd.read_csv(url)\n",
        "print(\"First 5 rows of the Titanic DataFrame:\")\n",
        "print(titanic_df.head())"
      ],
      "metadata": {
        "colab": {
          "base_uri": "https://localhost:8080/"
        },
        "id": "TGQXCLuAZZPH",
        "outputId": "f9ba9f9a-eae1-45b5-9286-5893c1cd63a0"
      },
      "execution_count": 12,
      "outputs": [
        {
          "output_type": "stream",
          "name": "stdout",
          "text": [
            "First 5 rows of the Titanic DataFrame:\n",
            "   PassengerId  Survived  Pclass  \\\n",
            "0            1         0       3   \n",
            "1            2         1       1   \n",
            "2            3         1       3   \n",
            "3            4         1       1   \n",
            "4            5         0       3   \n",
            "\n",
            "                                                Name     Sex   Age  SibSp  \\\n",
            "0                            Braund, Mr. Owen Harris    male  22.0      1   \n",
            "1  Cumings, Mrs. John Bradley (Florence Briggs Th...  female  38.0      1   \n",
            "2                             Heikkinen, Miss. Laina  female  26.0      0   \n",
            "3       Futrelle, Mrs. Jacques Heath (Lily May Peel)  female  35.0      1   \n",
            "4                           Allen, Mr. William Henry    male  35.0      0   \n",
            "\n",
            "   Parch            Ticket     Fare Cabin Embarked  \n",
            "0      0         A/5 21171   7.2500   NaN        S  \n",
            "1      0          PC 17599  71.2833   C85        C  \n",
            "2      0  STON/O2. 3101282   7.9250   NaN        S  \n",
            "3      0            113803  53.1000  C123        S  \n",
            "4      0            373450   8.0500   NaN        S  \n"
          ]
        }
      ]
    },
    {
      "cell_type": "code",
      "source": [
        "#2\n",
        "print(\"Summary statistics of the DataFrame:\")\n",
        "print(titanic_df.describe())\n"
      ],
      "metadata": {
        "colab": {
          "base_uri": "https://localhost:8080/"
        },
        "id": "cQDT_EHkbOOB",
        "outputId": "6045e441-6861-41f1-aef8-966e3e21530d"
      },
      "execution_count": 13,
      "outputs": [
        {
          "output_type": "stream",
          "name": "stdout",
          "text": [
            "Summary statistics of the DataFrame:\n",
            "       PassengerId    Survived      Pclass         Age       SibSp  \\\n",
            "count   891.000000  891.000000  891.000000  714.000000  891.000000   \n",
            "mean    446.000000    0.383838    2.308642   29.699118    0.523008   \n",
            "std     257.353842    0.486592    0.836071   14.526497    1.102743   \n",
            "min       1.000000    0.000000    1.000000    0.420000    0.000000   \n",
            "25%     223.500000    0.000000    2.000000   20.125000    0.000000   \n",
            "50%     446.000000    0.000000    3.000000   28.000000    0.000000   \n",
            "75%     668.500000    1.000000    3.000000   38.000000    1.000000   \n",
            "max     891.000000    1.000000    3.000000   80.000000    8.000000   \n",
            "\n",
            "            Parch        Fare  \n",
            "count  891.000000  891.000000  \n",
            "mean     0.381594   32.204208  \n",
            "std      0.806057   49.693429  \n",
            "min      0.000000    0.000000  \n",
            "25%      0.000000    7.910400  \n",
            "50%      0.000000   14.454200  \n",
            "75%      0.000000   31.000000  \n",
            "max      6.000000  512.329200  \n"
          ]
        }
      ]
    },
    {
      "cell_type": "code",
      "source": [
        "#3\n",
        "print(\"Count of null values in each column:\")\n",
        "print(titanic_df.isnull().sum())\n"
      ],
      "metadata": {
        "colab": {
          "base_uri": "https://localhost:8080/"
        },
        "id": "td4qu2dcbpYc",
        "outputId": "08f9cc9b-3a41-48a1-9419-4440f5aa9746"
      },
      "execution_count": 14,
      "outputs": [
        {
          "output_type": "stream",
          "name": "stdout",
          "text": [
            "Count of null values in each column:\n",
            "PassengerId      0\n",
            "Survived         0\n",
            "Pclass           0\n",
            "Name             0\n",
            "Sex              0\n",
            "Age            177\n",
            "SibSp            0\n",
            "Parch            0\n",
            "Ticket           0\n",
            "Fare             0\n",
            "Cabin          687\n",
            "Embarked         2\n",
            "dtype: int64\n"
          ]
        }
      ]
    },
    {
      "cell_type": "code",
      "source": [
        "#4\n",
        "titanic_df['Age'].fillna(titanic_df['Age'].mean(), inplace=True)\n",
        "print(\"\\nFilled null values in 'Age' column with mean age.\")\n"
      ],
      "metadata": {
        "colab": {
          "base_uri": "https://localhost:8080/"
        },
        "id": "w7fsfekgbufx",
        "outputId": "8d1fcebd-c465-4cce-d972-52e2843ecbf6"
      },
      "execution_count": 15,
      "outputs": [
        {
          "output_type": "stream",
          "name": "stdout",
          "text": [
            "\n",
            "Filled null values in 'Age' column with mean age.\n"
          ]
        }
      ]
    },
    {
      "cell_type": "code",
      "source": [
        "#5\n",
        "titanic_df.dropna(subset=['Embarked'], inplace=True)\n",
        "print(\"\\nDropped rows where 'Embarked' is null.\")"
      ],
      "metadata": {
        "colab": {
          "base_uri": "https://localhost:8080/"
        },
        "id": "zkMWJwsebzUa",
        "outputId": "f6bd1b60-df59-4ebf-fadb-0c34ee6abcd0"
      },
      "execution_count": 16,
      "outputs": [
        {
          "output_type": "stream",
          "name": "stdout",
          "text": [
            "\n",
            "Dropped rows where 'Embarked' is null.\n"
          ]
        }
      ]
    },
    {
      "cell_type": "code",
      "source": [
        "#6\n",
        "titanic_df['FamilySize'] = titanic_df['SibSp'] + titanic_df['Parch']\n",
        "print(\"\\nAdded 'FamilySize' column.\")\n"
      ],
      "metadata": {
        "colab": {
          "base_uri": "https://localhost:8080/"
        },
        "id": "LRLLbLa3b4MO",
        "outputId": "5e17e959-d5e7-4749-e955-f8b8dc014580"
      },
      "execution_count": 17,
      "outputs": [
        {
          "output_type": "stream",
          "name": "stdout",
          "text": [
            "\n",
            "Added 'FamilySize' column.\n"
          ]
        }
      ]
    },
    {
      "cell_type": "code",
      "source": [
        "#7\n",
        "titanic_df['Sex'] = titanic_df['Sex'].map({'male': 0, 'female': 1})\n",
        "print(\"\\nConverted 'Sex' column to numerical values.\")"
      ],
      "metadata": {
        "colab": {
          "base_uri": "https://localhost:8080/"
        },
        "id": "_c0ou1uBb7tz",
        "outputId": "eed19759-6cf5-49ed-c11b-f153bb390c8f"
      },
      "execution_count": 18,
      "outputs": [
        {
          "output_type": "stream",
          "name": "stdout",
          "text": [
            "\n",
            "Converted 'Sex' column to numerical values.\n"
          ]
        }
      ]
    },
    {
      "cell_type": "code",
      "source": [
        "#8\n",
        "average_fare_by_pclass = titanic_df.groupby('Pclass')['Fare'].mean()\n",
        "print(\"\\nAverage fare for each class:\")\n",
        "print(average_fare_by_pclass)\n"
      ],
      "metadata": {
        "colab": {
          "base_uri": "https://localhost:8080/"
        },
        "id": "v0-ppQUqb_aZ",
        "outputId": "2be22f45-35fb-4810-eece-4d01dfe3e9b3"
      },
      "execution_count": 19,
      "outputs": [
        {
          "output_type": "stream",
          "name": "stdout",
          "text": [
            "\n",
            "Average fare for each class:\n",
            "Pclass\n",
            "1    84.193516\n",
            "2    20.662183\n",
            "3    13.675550\n",
            "Name: Fare, dtype: float64\n"
          ]
        }
      ]
    },
    {
      "cell_type": "code",
      "source": [
        "#9\n",
        "most_common_port = titanic_df['Embarked'].mode()[0]\n",
        "print(\"\\nMost common port of embarkation:\")\n",
        "print(most_common_port)"
      ],
      "metadata": {
        "colab": {
          "base_uri": "https://localhost:8080/"
        },
        "id": "DTcfDtrmcC24",
        "outputId": "e3b3dc30-f99e-4f00-997e-11b5e8ef4670"
      },
      "execution_count": 20,
      "outputs": [
        {
          "output_type": "stream",
          "name": "stdout",
          "text": [
            "\n",
            "Most common port of embarkation:\n",
            "S\n"
          ]
        }
      ]
    },
    {
      "cell_type": "code",
      "source": [
        "#10\n",
        "survival_rate_pivot = titanic_df.pivot_table(values='Survived', index='Sex', columns='Pclass', aggfunc='mean')\n",
        "print(\"\\nPivot table showing the survival rate for each combination of 'Sex' and 'Pclass':\")\n",
        "print(survival_rate_pivot)"
      ],
      "metadata": {
        "colab": {
          "base_uri": "https://localhost:8080/"
        },
        "id": "nRfSLvQScGDL",
        "outputId": "3e00bce6-a272-4b6b-89d1-c9832759e895"
      },
      "execution_count": 21,
      "outputs": [
        {
          "output_type": "stream",
          "name": "stdout",
          "text": [
            "\n",
            "Pivot table showing the survival rate for each combination of 'Sex' and 'Pclass':\n",
            "Pclass         1         2         3\n",
            "Sex                                 \n",
            "0       0.368852  0.157407  0.135447\n",
            "1       0.967391  0.921053  0.500000\n"
          ]
        }
      ]
    },
    {
      "cell_type": "code",
      "source": [],
      "metadata": {
        "id": "PzKsCrJNcI1L"
      },
      "execution_count": null,
      "outputs": []
    }
  ]
}